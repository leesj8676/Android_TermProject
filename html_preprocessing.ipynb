{
  "nbformat": 4,
  "nbformat_minor": 0,
  "metadata": {
    "colab": {
      "name": "html preprocessing.ipynb",
      "provenance": [],
      "collapsed_sections": [],
      "authorship_tag": "ABX9TyO7xuVokERmQ286kJPqFun4",
      "include_colab_link": true
    },
    "kernelspec": {
      "name": "python3",
      "display_name": "Python 3"
    },
    "language_info": {
      "name": "python"
    }
  },
  "cells": [
    {
      "cell_type": "markdown",
      "metadata": {
        "id": "view-in-github",
        "colab_type": "text"
      },
      "source": [
        "<a href=\"https://colab.research.google.com/github/leesj8676/Android_TermProject/blob/master/html_preprocessing.ipynb\" target=\"_parent\"><img src=\"https://colab.research.google.com/assets/colab-badge.svg\" alt=\"Open In Colab\"/></a>"
      ]
    },
    {
      "cell_type": "markdown",
      "metadata": {
        "id": "7Rss0cdJ4EhU"
      },
      "source": [
        "나무위키 테이블에서 찾은 html 파일을 전처리해서 df로 나타내기"
      ]
    },
    {
      "cell_type": "code",
      "metadata": {
        "id": "Q-F5C1XT4Rc1",
        "colab": {
          "base_uri": "https://localhost:8080/"
        },
        "outputId": "827ffc1a-e4dd-463f-a68f-5867cededee8"
      },
      "source": [
        "!git clone https://github.com/lukaskorea/Graduateproject_Teamscikitlove.git"
      ],
      "execution_count": 1,
      "outputs": [
        {
          "output_type": "stream",
          "text": [
            "fatal: destination path 'Graduateproject_Teamscikitlove' already exists and is not an empty directory.\n"
          ],
          "name": "stdout"
        }
      ]
    },
    {
      "cell_type": "code",
      "metadata": {
        "colab": {
          "base_uri": "https://localhost:8080/"
        },
        "id": "qNUP06DW57HZ",
        "outputId": "dd1f69be-12fc-414d-a33f-1256d04a49c7"
      },
      "source": [
        "import os\n",
        "print(\"before: %s\"%os.getcwd())\n",
        "os.chdir(\"./Graduateproject_Teamscikitlove/data_table/SmartPhone/html\")\n",
        "print(\"after: %s\"%os.getcwd())"
      ],
      "execution_count": 2,
      "outputs": [
        {
          "output_type": "stream",
          "text": [
            "before: /content\n",
            "after: /content/Graduateproject_Teamscikitlove/data_table/SmartPhone/html\n"
          ],
          "name": "stdout"
        }
      ]
    },
    {
      "cell_type": "code",
      "metadata": {
        "colab": {
          "base_uri": "https://localhost:8080/"
        },
        "id": "5KCGKTS_5-10",
        "outputId": "fe45f31e-df56-4520-996b-88b4795c906e"
      },
      "source": [
        " print(os.listdir(os.getcwd()))"
      ],
      "execution_count": 3,
      "outputs": [
        {
          "output_type": "stream",
          "text": [
            "['SM-G981.html']\n"
          ],
          "name": "stdout"
        }
      ]
    },
    {
      "cell_type": "code",
      "metadata": {
        "colab": {
          "base_uri": "https://localhost:8080/"
        },
        "id": "APXztub16AKz",
        "outputId": "ae00c51a-7f8b-4b86-f446-ee728c4cfd4c"
      },
      "source": [
        "pip install lxml"
      ],
      "execution_count": 4,
      "outputs": [
        {
          "output_type": "stream",
          "text": [
            "Requirement already satisfied: lxml in /usr/local/lib/python3.7/dist-packages (4.2.6)\n"
          ],
          "name": "stdout"
        }
      ]
    },
    {
      "cell_type": "code",
      "metadata": {
        "id": "Ddw4EMqi6ByF"
      },
      "source": [
        "import re\n",
        "import codecs"
      ],
      "execution_count": 5,
      "outputs": []
    },
    {
      "cell_type": "code",
      "metadata": {
        "id": "pmDHMucp6DU6"
      },
      "source": [
        "file_before = codecs.open(r'SM-G981.html', \"r\", \"utf-8\")"
      ],
      "execution_count": 6,
      "outputs": []
    },
    {
      "cell_type": "code",
      "metadata": {
        "id": "7wNElnzq6EsI"
      },
      "source": [
        "file_after =  file_before.read()"
      ],
      "execution_count": 7,
      "outputs": []
    },
    {
      "cell_type": "code",
      "metadata": {
        "colab": {
          "base_uri": "https://localhost:8080/"
        },
        "id": "M3k239wR6LY9",
        "outputId": "f55f8eb5-2711-4589-90af-4c9c9fc80f93"
      },
      "source": [
        "len(file_after)"
      ],
      "execution_count": 14,
      "outputs": [
        {
          "output_type": "execute_result",
          "data": {
            "text/plain": [
              "6455"
            ]
          },
          "metadata": {
            "tags": []
          },
          "execution_count": 14
        }
      ]
    },
    {
      "cell_type": "code",
      "metadata": {
        "id": "c9jUnT9r6MHV"
      },
      "source": [
        "file_after = re.sub('<strong>한국 내수용(.*?)$', '', file_after)\n",
        "file_after = re.sub('href=\"(.*?)\"', '', file_after)\n",
        "file_after = re.sub('class=\"(.*?)\"', '', file_after)\n",
        "file_after = re.sub('data-dark-style=\"(.*?)\"', '', file_after)\n",
        "file_after = re.sub('style=\"(.*?)\"', '', file_after)"
      ],
      "execution_count": 9,
      "outputs": []
    },
    {
      "cell_type": "code",
      "metadata": {
        "colab": {
          "base_uri": "https://localhost:8080/"
        },
        "id": "LMV0vaMX6NzG",
        "outputId": "060c8a79-de94-4ea7-81ac-5f7ae02e2c21"
      },
      "source": [
        "len(file_after)"
      ],
      "execution_count": 13,
      "outputs": [
        {
          "output_type": "execute_result",
          "data": {
            "text/plain": [
              "6455"
            ]
          },
          "metadata": {
            "tags": []
          },
          "execution_count": 13
        }
      ]
    },
    {
      "cell_type": "code",
      "metadata": {
        "colab": {
          "base_uri": "https://localhost:8080/"
        },
        "id": "tbJAERUa6Oxa",
        "outputId": "40b4eb6f-88f8-469e-8d18-026e650700d8"
      },
      "source": [
        ""
      ],
      "execution_count": 11,
      "outputs": [
        {
          "output_type": "execute_result",
          "data": {
            "text/plain": [
              "[                                  0  ...                       7\n",
              " 0                              프로세서  ...                     NaN\n",
              " 1                               CPU  ...                     NaN\n",
              " 2                               CPU  ...                     NaN\n",
              " 3                               GPU  ...                     NaN\n",
              " 4                         NPU & DSP  ...                     NaN\n",
              " 5                        Sensor Hub  ...                     NaN\n",
              " 6                             통신 모뎀  ...                     NaN\n",
              " 7                               메모리  ...                     NaN\n",
              " 8                             디스플레이  ...                     NaN\n",
              " 9                               공급사  ...                     NaN\n",
              " 10                             픽셀배열  ...                     NaN\n",
              " 11                             패널정보  ...                     NaN\n",
              " 12                             부가정보  ...                     NaN\n",
              " 13                             네트워크  ...                     NaN\n",
              " 14                             근접통신  ...                     NaN\n",
              " 15                             위성항법  ...                     NaN\n",
              " 16                              카메라  ...                     NaN\n",
              " 17                               기본  ...  LED 플래시광학 1.08배줌 지원[A]\n",
              " 18                               망원  ...  LED 플래시광학 1.08배줌 지원[A]\n",
              " 19                               광각  ...  LED 플래시광학 1.08배줌 지원[A]\n",
              " 20                              배터리  ...                     NaN\n",
              " 21                           유선고속충전  ...                     NaN\n",
              " 22                             무선충전  ...                     NaN\n",
              " 23                             무선충전  ...                     NaN\n",
              " 24                             운영체제  ...                     NaN\n",
              " 25                               규격  ...                     NaN\n",
              " 26                            색상[2]  ...                     NaN\n",
              " 27                             단자정보  ...                     NaN\n",
              " 28                             생체인식  ...                     NaN\n",
              " 29                               기타  ...                     NaN\n",
              " 30  가속도, 기압, 자이로, 지자기, 홀, RGB 광, 근접  ...                     NaN\n",
              " 31                              NaN  ...                     NaN\n",
              " \n",
              " [32 rows x 8 columns],\n",
              "             0                                                  1\n",
              " 0         CPU                          ARM big.LITTLE - DynamIQ↓\n",
              " 1         CPU  ARM Cortex-A77 Single-Core 2.84 GHz + Triple-C...\n",
              " 2         GPU                          퀄컴 Adreno 650 587 MHz GPU\n",
              " 3   NPU & DSP                                 퀄컴 Hexagon 698 DSP\n",
              " 4  Sensor Hub                                             DSP 대체\n",
              " 5       통신 모뎀                                                미탑재,\n",
              "       0                                       1\n",
              " 0   공급사                                 삼성디스플레이\n",
              " 1  픽셀배열              다이아몬드 형태 RG-BG 펜타일 서브픽셀 방식\n",
              " 2  패널정보  Dynamic AMOLED 2X (M10 유기재료) Dual-Edge\n",
              " 3  부가정보     최대 주사율 120 Hz, 고릴라 글래스 6, HDR10+ 지원,\n",
              "     0       1          2  ...      5     6                       7\n",
              " 0  기본  OIS 지원  1,200만 화소  ...  F/1.8   79°  LED 플래시광학 1.08배줌 지원[A]\n",
              " 1  망원  OIS 지원  6,400만 화소  ...  F/2.0   76°  LED 플래시광학 1.08배줌 지원[A]\n",
              " 2  광각     NaN  1,200만 화소  ...  F/2.2  120°  LED 플래시광학 1.08배줌 지원[A]\n",
              " \n",
              " [3 rows x 8 columns],\n",
              "         0       1                                                  2\n",
              " 0  유선고속충전  유선고속충전  삼성전자 Super Fast Charging - USB Power Delivery ...\n",
              " 1    무선충전      고속             삼성전자 Fast Wireless Charging 2.0 (15 W)\n",
              " 2    무선충전      일반             Qi(WPC -.-.-) (5 W), AirFuel -.- (- W),\n",
              "                                  0\n",
              " 0  가속도, 기압, 자이로, 지자기, 홀, RGB 광, 근접]"
            ]
          },
          "metadata": {
            "tags": []
          },
          "execution_count": 11
        }
      ]
    },
    {
      "cell_type": "code",
      "metadata": {
        "colab": {
          "base_uri": "https://localhost:8080/",
          "height": 222
        },
        "id": "YtDHYr986QwK",
        "outputId": "9f2c4f7c-355b-401f-8bb9-be1d223a77d8"
      },
      "source": [
        "html = file_after\n",
        "\n",
        "# Write HTML String to file.html\n",
        " \n",
        " os.chdir(\"./Graduateproject_Teamscikitlove/data_table/SmartPhone/html/html_after\")\n",
        "with open(r\"/html_after/SM-G981.html\", \"w\") as file:\n",
        "    file.write(html)"
      ],
      "execution_count": 12,
      "outputs": [
        {
          "output_type": "error",
          "ename": "FileNotFoundError",
          "evalue": "ignored",
          "traceback": [
            "\u001b[0;31m---------------------------------------------------------------------------\u001b[0m",
            "\u001b[0;31mFileNotFoundError\u001b[0m                         Traceback (most recent call last)",
            "\u001b[0;32m<ipython-input-12-b0b97b334fdf>\u001b[0m in \u001b[0;36m<module>\u001b[0;34m()\u001b[0m\n\u001b[1;32m      3\u001b[0m \u001b[0;31m# Write HTML String to file.html\u001b[0m\u001b[0;34m\u001b[0m\u001b[0;34m\u001b[0m\u001b[0;34m\u001b[0m\u001b[0m\n\u001b[1;32m      4\u001b[0m \u001b[0;34m\u001b[0m\u001b[0m\n\u001b[0;32m----> 5\u001b[0;31m \u001b[0;32mwith\u001b[0m \u001b[0mopen\u001b[0m\u001b[0;34m(\u001b[0m\u001b[0;34mr\"/html_after/SM-G981.html\"\u001b[0m\u001b[0;34m,\u001b[0m \u001b[0;34m\"w\"\u001b[0m\u001b[0;34m)\u001b[0m \u001b[0;32mas\u001b[0m \u001b[0mfile\u001b[0m\u001b[0;34m:\u001b[0m\u001b[0;34m\u001b[0m\u001b[0;34m\u001b[0m\u001b[0m\n\u001b[0m\u001b[1;32m      6\u001b[0m     \u001b[0mfile\u001b[0m\u001b[0;34m.\u001b[0m\u001b[0mwrite\u001b[0m\u001b[0;34m(\u001b[0m\u001b[0mhtml\u001b[0m\u001b[0;34m)\u001b[0m\u001b[0;34m\u001b[0m\u001b[0;34m\u001b[0m\u001b[0m\n",
            "\u001b[0;31mFileNotFoundError\u001b[0m: [Errno 2] No such file or directory: '/html_after/SM-G981.html'"
          ]
        }
      ]
    },
    {
      "cell_type": "markdown",
      "metadata": {
        "id": "oR-UMl3z7N5d"
      },
      "source": [
        "html 디렉터리 안의 모든 파일에 대해서 같은 작업 수행"
      ]
    },
    {
      "cell_type": "code",
      "metadata": {
        "id": "wHZScMxH7NUu"
      },
      "source": [
        "for filename in os.listdir(os.getcwd()):\n",
        "    file_before = codecs.open(s, \"r\", \"utf-8\")\n",
        "\n",
        "    file_after =  file_before.read()\n",
        "    file_after = re.sub('<strong>한국 내수용(.*?)$', '', file_after)\n",
        "    file_after = re.sub('href=\"(.*?)\"', '', file_after)\n",
        "    file_after = re.sub('class=\"(.*?)\"', '', file_after)\n",
        "    file_after = re.sub('data-dark-style=\"(.*?)\"', '', file_after)\n",
        "    file_after = re.sub('style=\"(.*?)\"', '', file_after)\n",
        "\n",
        "    html = file_after\n",
        "\n",
        "    # Write HTML String to filename.html\n",
        "    with open(r\"/html_after/\"+filename, \"w\") as file:\n",
        "        file.write(html)"
      ],
      "execution_count": null,
      "outputs": []
    },
    {
      "cell_type": "markdown",
      "metadata": {
        "id": "jYj9T2Ik8Vo1"
      },
      "source": [
        "pandas로 잘나오나 확인해보기"
      ]
    },
    {
      "cell_type": "code",
      "metadata": {
        "id": "zdf7PtpU8TW3"
      },
      "source": [
        "import pandas as pd"
      ],
      "execution_count": null,
      "outputs": []
    },
    {
      "cell_type": "code",
      "metadata": {
        "id": "i2oKzswD8Tb8"
      },
      "source": [
        "df = pd.read_html(file_after, encoding='utf-8')\n",
        "df"
      ],
      "execution_count": null,
      "outputs": []
    }
  ]
}